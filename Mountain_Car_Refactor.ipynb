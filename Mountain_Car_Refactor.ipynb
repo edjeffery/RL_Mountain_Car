{
 "cells": [
  {
   "cell_type": "code",
   "execution_count": 34,
   "metadata": {},
   "outputs": [],
   "source": [
    "import mountaincar\n",
    "import random\n",
    "import numpy as np\n",
    "import matplotlib.pyplot as plt\n",
    "%matplotlib inline"
   ]
  },
  {
   "cell_type": "code",
   "execution_count": 74,
   "metadata": {},
   "outputs": [],
   "source": [
    "def createTiling():    \n",
    "    num_tiles = 10\n",
    "    min_x = -1.2\n",
    "    max_x = 0.5\n",
    "    x_tile_width = (max_x - min_x) / (num_tiles - 2)\n",
    "    min_y = -0.07\n",
    "    max_y = 0.07\n",
    "    y_tile_width = (max_y - min_y) / (num_tiles - 2)\n",
    "    \n",
    "    tilings = np.zeros((10, 2, 10))\n",
    "    \n",
    "    for tiling in range(num_tiles):\n",
    "        x_offset = np.random.uniform(0, x_tile_width)\n",
    "        y_offset = np.random.uniform(0, y_tile_width)     \n",
    "        xs = np.linspace(min_x, max_x + x_tile_width, num_tiles) - x_offset\n",
    "        ys = np.linspace(min_y, max_y + y_tile_width, num_tiles) - y_offset\n",
    "        tilings[tiling] = np.array([xs, ys])\n",
    "        \n",
    "    return tilings\n",
    "\n",
    "def genIndices(state, action, tilings):\n",
    "    position = np.array(state[0])\n",
    "    velocity = np.array(state[1])\n",
    "    \n",
    "    action_index = action + 1\n",
    "    \n",
    "    num_tilings = len(tilings)\n",
    "    tiling_length = 10\n",
    "    tiling_height = 10\n",
    "    num_tiles = num_tilings * tiling_length * tiling_height\n",
    "    \n",
    "    tiles = np.zeros(10, dtype=np.intp)\n",
    "    for tiling in range(num_tilings):\n",
    "        xs = tilings[tiling][0]\n",
    "        ys = tilings[tiling][1]\n",
    "        xi = np.digitize(position, xs)\n",
    "        yi = np.digitize(velocity, ys)\n",
    "        index = (action_index * num_tiles) + (tiling * tiling_length * tiling_height) + xi + (yi * tiling_height)\n",
    "        tiles[tiling] = int(index)\n",
    "    return tiles\n"
   ]
  },
  {
   "cell_type": "code",
   "execution_count": 129,
   "metadata": {},
   "outputs": [
    {
     "name": "stdout",
     "output_type": "stream",
     "text": [
      "[-1.2    -0.9875 -0.775  -0.5625 -0.35   -0.1375  0.075   0.2875  0.5   ]\n",
      "[-1.2  -1.03 -0.86 -0.69 -0.52 -0.35 -0.18 -0.01  0.16]\n"
     ]
    }
   ],
   "source": [
    "xs = np.linspace(-1.2, 0.5, 9)\n",
    "print(xs)\n",
    "ls = np.zeros(9)\n",
    "for i in range(9):\n",
    "    ls[i] = -1.2 + 0.17 * i\n",
    "print(ls)"
   ]
  },
  {
   "cell_type": "code",
   "execution_count": 71,
   "metadata": {},
   "outputs": [],
   "source": [
    "def e_greedy_action(theta, s, actions, tilings):\n",
    "        Q = np.zeros(3)\n",
    "        for a in actions:\n",
    "            F = genIndices(s, a, tilings)\n",
    "            Qa = calcQ(F, theta)\n",
    "            Q[a + 1] = Qa\n",
    "        maxQ = max(Q)\n",
    "        if (Q == maxQ).sum() > 1:\n",
    "            best = [i for i in range(len(actions)) if Q[i] == maxQ]\n",
    "            i = random.choice(best)\n",
    "        else:\n",
    "            i = np.argmax(Q)\n",
    "        action = actions[i]\n",
    "        Qa = Q[i]\n",
    "        return action, Qa"
   ]
  },
  {
   "cell_type": "code",
   "execution_count": 72,
   "metadata": {},
   "outputs": [],
   "source": [
    "def calcQ(F, theta):\n",
    "    Qa = 0\n",
    "    for i in F:\n",
    "        Qa = Qa + theta[i]\n",
    "    return Qa"
   ]
  },
  {
   "cell_type": "code",
   "execution_count": 119,
   "metadata": {},
   "outputs": [],
   "source": [
    "def play(env, num_episodes, alpha=0.1, gamma=1.0, epsilon=0.05, lambda_=0.9, plot=False):\n",
    "\n",
    "    theta = np.zeros(3000)\n",
    "    \n",
    "    reward_per_episode = np.zeros(num_episodes)\n",
    "    steps_per_episode = np.zeros(num_episodes)\n",
    "    \n",
    "    # Create tilings\n",
    "    tilings = createTiling()\n",
    "    \n",
    "    for episode in range(num_episodes):\n",
    "        \n",
    "        cumulative_reward = 0\n",
    "        step = 0\n",
    "\n",
    "        e = np.zeros(3000)\n",
    "        env.reset()\n",
    "        \n",
    "        # Get starting state and action\n",
    "        state = np.array([env.position, env.velocity])\n",
    "        action = random.choice(env.actions)\n",
    "        \n",
    "        while not env.game_over:\n",
    "            \n",
    "            F = genIndices(state, action, tilings)\n",
    "            \n",
    "            # Eligibility traces\n",
    "            for i in F:\n",
    "                #e[i] = 1 # Accumulating traces\n",
    "                e[i] = 1 # Replacing traces\n",
    "            \n",
    "            # Make step and get reward and next state\n",
    "            reward = env.make_step(action)\n",
    "            state_ = np.array([env.position, env.velocity])\n",
    "            \n",
    "            # Calculate Q and then TD error\n",
    "            Qa = calcQ(F, theta)\n",
    "            #print(Qa)\n",
    "            delta = reward - Qa\n",
    "            \n",
    "            # Epsilon greedy next action choice\n",
    "            if np.random.uniform(0, 1) < (1 - epsilon):\n",
    "                action_, Qa_ = e_greedy_action(theta, state_, env.actions, tilings)\n",
    "            else:\n",
    "                action_ = random.choice(env.actions)\n",
    "                F = genIndices(state_, action, tilings)\n",
    "                Qa_ = calcQ(F, theta)\n",
    "            \n",
    "            # Update delta, theta and e\n",
    "            delta = delta + gamma * Qa_\n",
    "            theta = theta + alpha * delta * e\n",
    "            #print(max(theta))\n",
    "            e = gamma * lambda_ * e\n",
    "            \n",
    "            # Set s = s' and a = a'\n",
    "            state = np.copy(state_)\n",
    "            action = action_\n",
    "            \n",
    "            # Increment step counter and cumulative reward\n",
    "            step += 1\n",
    "            cumulative_reward += reward\n",
    "            \n",
    "            # Plot graph if plot boolean on\n",
    "            if plot == True:\n",
    "                env.plot()\n",
    "                \n",
    "        reward_per_episode[episode] = cumulative_reward\n",
    "        steps_per_episode[episode] = step\n",
    "    \n",
    "    print(\"complete\")\n",
    "    return reward_per_episode, steps_per_episode\n",
    "            "
   ]
  },
  {
   "cell_type": "code",
   "execution_count": 131,
   "metadata": {},
   "outputs": [
    {
     "name": "stdout",
     "output_type": "stream",
     "text": [
      "complete\n",
      "complete\n",
      "complete\n",
      "complete\n",
      "complete\n",
      "complete\n",
      "complete\n",
      "complete\n",
      "complete\n",
      "complete\n"
     ]
    }
   ],
   "source": [
    "n_agents = 10\n",
    "num_episodes = 100\n",
    "all_rewards = np.zeros(num_episodes)\n",
    "all_steps = np.zeros(num_episodes)\n",
    "for i in range(n_agents):\n",
    "    #sarsa_agent = SarsaAgent(alpha=0.1, gamma=1.0, epsilon=0.05, lambda_=0.9)\n",
    "    env = mountaincar.MountainCar()\n",
    "    rewards, steps = play(env, num_episodes, alpha=0.125, gamma=1.0, epsilon=0.0, lambda_=0.9, plot=False)\n",
    "    all_rewards += rewards\n",
    "    all_steps += steps\n",
    "\n",
    "all_rewards = all_rewards / n_agents\n",
    "all_steps = all_steps / n_agents"
   ]
  },
  {
   "cell_type": "code",
   "execution_count": 118,
   "metadata": {},
   "outputs": [
    {
     "name": "stdout",
     "output_type": "stream",
     "text": [
      "complete\n",
      "complete\n",
      "complete\n",
      "complete\n",
      "complete\n",
      "complete\n",
      "complete\n",
      "complete\n",
      "complete\n",
      "complete\n"
     ]
    }
   ],
   "source": [
    "n_agents = 10\n",
    "num_episodes = 100\n",
    "all_rewards_001 = np.zeros(num_episodes)\n",
    "all_steps_001 = np.zeros(num_episodes)\n",
    "for i in range(n_agents):\n",
    "    env = mountaincar.MountainCar()\n",
    "    rewards, steps = play(env, num_episodes, alpha=0.1, gamma=1.0, epsilon=0.0, lambda_=0.9, plot=False)\n",
    "    all_rewards_001 += rewards\n",
    "    all_steps_001 += steps\n",
    "\n",
    "all_rewards_001 = all_rewards_001 / n_agents\n",
    "all_steps_001 = all_steps_001 / n_agents"
   ]
  },
  {
   "cell_type": "code",
   "execution_count": null,
   "metadata": {},
   "outputs": [],
   "source": [
    "play(env, num_episodes, alpha=0.1, gamma=1.0, epsilon=0.05, lambda_=0.9, plot=True)"
   ]
  },
  {
   "cell_type": "code",
   "execution_count": 114,
   "metadata": {},
   "outputs": [
    {
     "data": {
      "image/png": "[encoded data removed]",
      "text/plain": [
       "<matplotlib.figure.Figure at 0x118f6a278>"
      ]
     },
     "metadata": {},
     "output_type": "display_data"
    }
   ],
   "source": [
    "#print(all_rewards)\n",
    "\n",
    "plt.plot(all_rewards, label='alpha=0.05')\n",
    "plt.plot(all_rewards_001, label='alpha=0.01')\n",
    "plt.title(\"Sarsa(λ): Moving average return for \"+ str(n_agents) + \" agents\")\n",
    "plt.xlabel('Episode')\n",
    "plt.ylabel('Average reward')\n",
    "plt.legend()\n",
    "plt.show()"
   ]
  },
  {
   "cell_type": "code",
   "execution_count": null,
   "metadata": {},
   "outputs": [],
   "source": []
  }
 ],
 "metadata": {
  "kernelspec": {
   "display_name": "Python 3",
   "language": "python",
   "name": "python3"
  },
  "language_info": {
   "codemirror_mode": {
    "name": "ipython",
    "version": 3
   },
   "file_extension": ".py",
   "mimetype": "text/x-python",
   "name": "python",
   "nbconvert_exporter": "python",
   "pygments_lexer": "ipython3",
   "version": "3.6.4"
  }
 },
 "nbformat": 4,
 "nbformat_minor": 2
}
