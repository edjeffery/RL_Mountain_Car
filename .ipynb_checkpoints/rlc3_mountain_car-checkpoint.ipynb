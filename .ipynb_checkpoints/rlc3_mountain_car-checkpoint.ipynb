{
 "cells": [
  {
   "cell_type": "markdown",
   "metadata": {},
   "source": [
    "# CM50270 Reinforcement Learning: Coursework 3 (Mountain Car)\n",
    "\n",
    "Please remember: \n",
    "(1) Restart the kernel and run all cells before submitting the notebook. This will guarantee that we will be able to run your code for testing.\n",
    "(2) Save your work regularly. "
   ]
  },
  {
   "cell_type": "markdown",
   "metadata": {},
   "source": [
    "###  Code for Mountain Car \n",
    "\n",
    "We provide a `MountainCar` class that you can use. This implementation is based on the problem description given in [Example 8.2](http://www.incompleteideas.net/book/ebook/node89.html) of Sutton & Barto (1998) The following cells in this section will walk you through the basic usage of this class.\n",
    "\n",
    "We import the mountaincar module and create a `MountainCar` object called `env`. The `reset()` method chooses a random starting `position` and starting `velocity` for the car, and sets the `game_over` variable to `False`. You can access these state variables independently using the same names."
   ]
  },
  {
   "cell_type": "code",
   "execution_count": null,
   "metadata": {},
   "outputs": [],
   "source": [
    "import numpy as np\n",
    "import mountaincar\n",
    "\n",
    "np.random.seed(7)\n",
    "\n",
    "env = mountaincar.MountainCar()\n",
    "env.reset()\n",
    "print(\"Starting position of the car\", env.position)\n",
    "print(\"Starting velocity of the car\", env.velocity)\n",
    "if not env.game_over:\n",
    "    print(\"Game is not over yet.\")"
   ]
  },
  {
   "cell_type": "markdown",
   "metadata": {},
   "source": [
    "You can visualize the current position of the car using the `plot()` method."
   ]
  },
  {
   "cell_type": "code",
   "execution_count": null,
   "metadata": {},
   "outputs": [],
   "source": [
    "env.plot()"
   ]
  },
  {
   "cell_type": "markdown",
   "metadata": {},
   "source": [
    "You can interact with the `MountainCar` environment using the `make_step()` method. This method takes an `action` as input and computes the response of the environment. This method returns a `reward` signal, which is always -1.\n",
    "\n",
    "The action can be one of the following integers:\n",
    "* -1: full throttle reverse\n",
    "*  0: zero throttle\n",
    "*  1: full throttle forward"
   ]
  },
  {
   "cell_type": "code",
   "execution_count": null,
   "metadata": {},
   "outputs": [],
   "source": [
    "# Let's drive a bit full throttle forward and plot again.\n",
    "env.make_step(action=1)\n",
    "env.make_step(action=1)\n",
    "env.make_step(action=1)\n",
    "env.plot()"
   ]
  },
  {
   "cell_type": "markdown",
   "metadata": {},
   "source": [
    "The following code snippet shows that even at full throttle the car cannot accelerate up the steep slope."
   ]
  },
  {
   "cell_type": "code",
   "execution_count": null,
   "metadata": {},
   "outputs": [],
   "source": [
    "num_steps = 150\n",
    "for episode in range(num_steps):\n",
    "    # Always action 1 (full throttle forward)\n",
    "    env.make_step(action=1)\n",
    "    env.plot()"
   ]
  },
  {
   "cell_type": "markdown",
   "metadata": {},
   "source": [
    "## Part 1 (50 marks):\n",
    "\n",
    "For your reference, the pseudo-code for  _Linear, gradient-descent Sarsa($\\lambda$)_ is reproduced below from the textbook (Reinforcement Learning, Sutton & Barto, 1998, [Section 8.4](http://www.incompleteideas.net/book/ebook/node89.html#fig:FAsarsa).\n",
    "<img src=\"images/gradient_descent_Sarsa.png\" style=\"width: 500px;\"/>\n",
    "\n",
    "Please plot an average learning curve for your agent. This should be a static figure of _precomputed_ results, clearly showing (1) how efficiently an average agent learns, and (2) how good the eventual policy is. In five sentences or less, describe your choice of parameter settings and your results.\n",
    "\n",
    "In addition, please write code to produce a learning curve for a _single_ agent. This shoud be a dynamic figure that we can produce from scratch by executing your code. This figure can show less detail than the static plot. \n"
   ]
  },
  {
   "cell_type": "code",
   "execution_count": 36,
   "metadata": {},
   "outputs": [],
   "source": [
    "import mountaincar\n",
    "import random\n",
    "import numpy as np\n",
    "import matplotlib.pyplot as plt\n",
    "%matplotlib inline"
   ]
  },
  {
   "cell_type": "code",
   "execution_count": 37,
   "metadata": {},
   "outputs": [],
   "source": [
    "\n",
    "class SarsaAgent():\n",
    "    \n",
    "    def __init__(self, alpha, gamma, epsilon, lambda_):\n",
    "        self.alpha = alpha\n",
    "        self.gamma = gamma\n",
    "        self.epsilon = epsilon\n",
    "        self.lambda_ = lambda_\n",
    "        self.theta = np.zeros((10,10,10,3))\n",
    "    \n",
    "    def reset(self):\n",
    "        self.theta = np.zeros((10,10,10,3))\n",
    "    \n",
    "    def choose_action(self, state, actions, tilings):\n",
    "        if np.random.uniform(0, 1) < self.epsilon:\n",
    "            action = random.choice(actions)\n",
    "            Q = self.calcQ(state, tilings)\n",
    "            return action, Q[action + 1]\n",
    "        else:\n",
    "            Q = self.calcQ(state, tilings)\n",
    "            maxQ = max(Q)\n",
    "            if (Q == maxQ).sum() > 1:\n",
    "                best = [i for i in range(len(actions)) if Q[i] == maxQ]\n",
    "                i = random.choice(best)\n",
    "            else:\n",
    "                i = np.argmax(Q)\n",
    "\n",
    "        action = actions[i]\n",
    "        return action, Q[action + 1]\n",
    "\n",
    "    def choose_random_action(self, actions):\n",
    "        return random.choice(actions)\n",
    "    \n",
    "    def calcQ(self, state, tilings):\n",
    "        Q = np.zeros(3)\n",
    "        for a in [-1, 0, 1]:\n",
    "            F = tileCode(state, a + 1, tilings)\n",
    "            for i in F:\n",
    "                Q[a + 1] = Q[a + 1] + self.theta[i[0], i[1], i[2], i[3]]\n",
    "            #mult = self.theta * set_of_features\n",
    "            #Q[a + 1] = np.sum(mult)\n",
    "#            for i in range(10):\n",
    "#                for j in range(10):\n",
    "#                    for k in range(10):\n",
    "#                        for l in range(3):\n",
    "#                            if mult[i, j, k, l] > 0:\n",
    "#                                print(i, j, k, l, \"\\tValue:\", mult[i, j, k, l])\n",
    "        #print(\"Q:\", Q)\n",
    "        return Q\n"
   ]
  },
  {
   "cell_type": "code",
   "execution_count": 38,
   "metadata": {},
   "outputs": [],
   "source": [
    "\n",
    "def createTiling():    \n",
    "    num_tiles = 10\n",
    "    min_x = -1.2\n",
    "    max_x = 0.5\n",
    "    x_tile_width = (max_x - min_x) / (num_tiles - 2)\n",
    "    min_y = -0.07\n",
    "    max_y = 0.07\n",
    "    y_tile_width = (max_y - min_y) / (num_tiles - 2)\n",
    "    \n",
    "    #tiles = np.zeros((10,4), dtype=np.int)\n",
    "    tilings = np.zeros((10, 2, 10))\n",
    "    \n",
    "    for tiling in range(num_tiles):\n",
    "        x_offset = np.random.uniform(0, x_tile_width)\n",
    "        #print(\"X offset:\", x_offset)\n",
    "        y_offset = np.random.uniform(0, y_tile_width)     \n",
    "        xs = np.linspace(min_x, max_x + x_tile_width, num_tiles) - x_offset\n",
    "        #print(np.linspace(min_x, max_x + x_tile_width, num_tiles))\n",
    "        ys = np.linspace(min_y, max_y + y_tile_width, num_tiles) - y_offset\n",
    "        #print(np.linspace(min_y, max_y + y_tile_width, num_tiles))\n",
    "        tilings[tiling] = np.array([xs, ys])\n",
    "        \n",
    "    return tilings\n",
    "\n",
    "def tileCode(state, action, tilings):\n",
    "    position = np.array(state[0])\n",
    "    velocity = np.array(state[1])\n",
    "    num_tiles = len(tilings)\n",
    "    tiles = np.zeros((10,4), dtype=np.int)\n",
    "    #tiles_ = np.zeros((10,10,10,3))\n",
    "    for tiling in range(num_tiles):\n",
    "        xs = tilings[tiling][0]\n",
    "        ys = tilings[tiling][1]\n",
    "        xi = np.digitize(position, xs)\n",
    "        yi = np.digitize(velocity, ys)\n",
    "        #print(xi, yi)\n",
    "        feature = np.array([xi, yi, tiling, action])\n",
    "        #print(feature)\n",
    "        tiles[tiling] = feature\n",
    "        #tiles_[xi, yi, tiling, action] = 1\n",
    "    return tiles\n"
   ]
  },
  {
   "cell_type": "code",
   "execution_count": 32,
   "metadata": {},
   "outputs": [
    {
     "name": "stdout",
     "output_type": "stream",
     "text": [
      "[ 0.39125364 -0.01621785]\n",
      "[[9 4 0 0]\n",
      " [9 4 1 0]\n",
      " [9 4 2 0]\n",
      " [8 5 3 0]\n",
      " [8 4 4 0]\n",
      " [8 4 5 0]\n",
      " [8 4 6 0]\n",
      " [9 4 7 0]\n",
      " [9 4 8 0]\n",
      " [8 4 9 0]]\n"
     ]
    }
   ],
   "source": [
    "env.reset()\n",
    "state = np.array([env.position, env.velocity])\n",
    "print(state)\n",
    "action = -1\n",
    "tilings_test = createTiling()\n",
    "#print(tilings_test[0])\n",
    "F = tileCode(state, action+1, tilings_test)\n",
    "print(F)\n",
    "#print(np.nonzero(set_of_features))\n",
    "#for i in range(10):\n",
    "#    for j in range(10):\n",
    "#        for k in range(10):\n",
    "#            for l in range(3):\n",
    "#                if set_of_features[i, j, k, l] == 1:\n",
    "#                    print(i, j, k, l)\n",
    "#print(set_of_features)\n",
    "#i = set_of_features[0]\n",
    "#sarsa_agent = SarsaAgent(alpha=0.1, gamma=1.0, epsilon=0.05, lambda_=0.9)\n",
    "#print(sarsa_agent.theta[i[0], i[1], i[2], i[3]])"
   ]
  },
  {
   "cell_type": "code",
   "execution_count": 44,
   "metadata": {},
   "outputs": [],
   "source": [
    "def choose_action(Q, epsilon, actions):\n",
    "        if np.random.uniform(0, 1) < epsilon:\n",
    "            action = random.choice(actions)\n",
    "            return action\n",
    "        else:\n",
    "            maxQ = max(Q)\n",
    "            if (Q == maxQ).sum() > 1:\n",
    "                best = [i for i in range(len(actions)) if Q[i] == maxQ]\n",
    "                i = random.choice(best)\n",
    "            else:\n",
    "                i = np.argmax(Q)\n",
    "        action = actions[i]\n",
    "        return action\n",
    "\n",
    "def calcQ(state, tilings, theta):\n",
    "        Q = np.zeros(3)\n",
    "        for a in [-1, 0, 1]:\n",
    "            F = tileCode(state, a + 1, tilings)\n",
    "            for i in F:\n",
    "                Q[a + 1] = Q[a + 1] + theta[i[0], i[1], i[2], i[3]]\n",
    "        #print(\"Q:\", Q)\n",
    "        return Q   "
   ]
  },
  {
   "cell_type": "code",
   "execution_count": 51,
   "metadata": {},
   "outputs": [],
   "source": [
    "\n",
    "def play(env, num_episodes, plot=False):\n",
    "    alpha = 0.1\n",
    "    gamma = 1.0\n",
    "    lambda_ = 0.9\n",
    "    epsilon = 0.05\n",
    "    theta = np.zeros((10,10,10,3))\n",
    "    \n",
    "    reward_per_episode = np.zeros(num_episodes)\n",
    "    steps_per_episode = np.zeros(num_episodes)\n",
    "    \n",
    "    # Get tilings\n",
    "    tilings = createTiling()\n",
    "    \n",
    "    for episode in range(num_episodes):\n",
    "        \n",
    "        cumulative_reward = 0\n",
    "        step = 0\n",
    "\n",
    "        e = np.zeros((10, 10, 10, 3))\n",
    "        env.reset()\n",
    "        \n",
    "        # Get starting state and action\n",
    "        state = np.array([env.position, env.velocity])\n",
    "        action = random.choice(env.actions)\n",
    "        \n",
    "        while not env.game_over:\n",
    "            #print(\"State\", state, \"Action:\", action)\n",
    "            F = tileCode(state, action + 1, tilings)\n",
    "            for i in F:\n",
    "                e[i[0], i[1], i[2], i[3]] = 1\n",
    "            \n",
    "            # Make step and get reward and next state\n",
    "            reward = env.make_step(action)\n",
    "            state_prime = np.array([env.position, env.velocity])\n",
    "            \n",
    "            # Calculate Q and then TD error\n",
    "            Q = calcQ(state_prime, tilings, theta)\n",
    "            delta = reward - Q[action + 1] # add 1 to action to get index (-1, 0, 1)->(0,1,2)\n",
    "            \n",
    "            # Get chosen action and corresponding value\n",
    "            #action = choose_action(new_state, env.actions, tilings)\n",
    "            #print(Qa)\n",
    "            \n",
    "            if np.random.uniform(0, 1) < (1 - epsilon):\n",
    "                Q = np.zeros(3)\n",
    "                for action in env.actions:\n",
    "                    F = tileCode(state_prime, action + 1, tilings)\n",
    "                    for i in F:\n",
    "                        Q[action + 1] = Q[action + 1] + theta[i[0], i[1], i[2], i[3]]\n",
    "                action_prime = np.argmax(Q) - 1\n",
    "                Qa = max(Q)\n",
    "            else:\n",
    "                Qa = 0\n",
    "                action_prime = random.choice(env.actions)\n",
    "                F = tileCode(state_prime, action + 1, tilings)\n",
    "                for i in F:\n",
    "                    Qa = Qa + theta[i[0], i[1], i[2], i[3]]\n",
    "            \n",
    "            # Update delta, theta and e\n",
    "            delta = delta + gamma * Qa\n",
    "            #print(\"Delta:\", delta)\n",
    "            theta = theta + alpha * delta * e\n",
    "            e = gamma * lambda_ * e\n",
    "            \n",
    "            # Set s = s' and a = a'\n",
    "            state = np.copy(state_prime)\n",
    "            action = action_prime\n",
    "            \n",
    "            # Increment step counter and cumulative reward\n",
    "            step += 1\n",
    "            cumulative_reward += reward\n",
    "            \n",
    "            if plot == True:\n",
    "                env.plot()\n",
    "                \n",
    "        reward_per_episode[episode] = cumulative_reward\n",
    "        steps_per_episode[episode] = step\n",
    "    \n",
    "    print(\"complete\")\n",
    "    return reward_per_episode, steps_per_episode\n",
    "            "
   ]
  },
  {
   "cell_type": "code",
   "execution_count": 52,
   "metadata": {},
   "outputs": [
    {
     "name": "stderr",
     "output_type": "stream",
     "text": [
      "/Users/edjeffery/anaconda3/lib/python3.6/site-packages/ipykernel_launcher.py:20: RuntimeWarning: overflow encountered in double_scalars\n",
      "/Users/edjeffery/anaconda3/lib/python3.6/site-packages/ipykernel_launcher.py:50: RuntimeWarning: overflow encountered in double_scalars\n",
      "/Users/edjeffery/anaconda3/lib/python3.6/site-packages/ipykernel_launcher.py:61: RuntimeWarning: invalid value encountered in double_scalars\n"
     ]
    },
    {
     "ename": "KeyboardInterrupt",
     "evalue": "",
     "output_type": "error",
     "traceback": [
      "\u001b[0;31m---------------------------------------------------------------------------\u001b[0m",
      "\u001b[0;31mKeyboardInterrupt\u001b[0m                         Traceback (most recent call last)",
      "\u001b[0;32m<ipython-input-52-1e0cb64b6c3f>\u001b[0m in \u001b[0;36m<module>\u001b[0;34m()\u001b[0m\n\u001b[1;32m      6\u001b[0m     \u001b[0;31m#sarsa_agent = SarsaAgent(alpha=0.1, gamma=1.0, epsilon=0.05, lambda_=0.9)\u001b[0m\u001b[0;34m\u001b[0m\u001b[0;34m\u001b[0m\u001b[0m\n\u001b[1;32m      7\u001b[0m     \u001b[0menv\u001b[0m \u001b[0;34m=\u001b[0m \u001b[0mmountaincar\u001b[0m\u001b[0;34m.\u001b[0m\u001b[0mMountainCar\u001b[0m\u001b[0;34m(\u001b[0m\u001b[0;34m)\u001b[0m\u001b[0;34m\u001b[0m\u001b[0m\n\u001b[0;32m----> 8\u001b[0;31m     \u001b[0mrewards\u001b[0m\u001b[0;34m,\u001b[0m \u001b[0msteps\u001b[0m \u001b[0;34m=\u001b[0m \u001b[0mplay\u001b[0m\u001b[0;34m(\u001b[0m\u001b[0menv\u001b[0m\u001b[0;34m,\u001b[0m \u001b[0mnum_episodes\u001b[0m\u001b[0;34m,\u001b[0m \u001b[0mplot\u001b[0m\u001b[0;34m=\u001b[0m\u001b[0;32mFalse\u001b[0m\u001b[0;34m)\u001b[0m\u001b[0;34m\u001b[0m\u001b[0m\n\u001b[0m\u001b[1;32m      9\u001b[0m     \u001b[0mall_rewards\u001b[0m \u001b[0;34m+=\u001b[0m \u001b[0mrewards\u001b[0m\u001b[0;34m\u001b[0m\u001b[0m\n\u001b[1;32m     10\u001b[0m     \u001b[0mall_steps\u001b[0m \u001b[0;34m+=\u001b[0m \u001b[0msteps\u001b[0m\u001b[0;34m\u001b[0m\u001b[0m\n",
      "\u001b[0;32m<ipython-input-51-5abbe9551c22>\u001b[0m in \u001b[0;36mplay\u001b[0;34m(env, num_episodes, plot)\u001b[0m\n\u001b[1;32m     36\u001b[0m \u001b[0;34m\u001b[0m\u001b[0m\n\u001b[1;32m     37\u001b[0m             \u001b[0;31m# Calculate Q and then TD error\u001b[0m\u001b[0;34m\u001b[0m\u001b[0;34m\u001b[0m\u001b[0m\n\u001b[0;32m---> 38\u001b[0;31m             \u001b[0mQ\u001b[0m \u001b[0;34m=\u001b[0m \u001b[0mcalcQ\u001b[0m\u001b[0;34m(\u001b[0m\u001b[0mstate_prime\u001b[0m\u001b[0;34m,\u001b[0m \u001b[0mtilings\u001b[0m\u001b[0;34m,\u001b[0m \u001b[0mtheta\u001b[0m\u001b[0;34m)\u001b[0m\u001b[0;34m\u001b[0m\u001b[0m\n\u001b[0m\u001b[1;32m     39\u001b[0m             \u001b[0mdelta\u001b[0m \u001b[0;34m=\u001b[0m \u001b[0mreward\u001b[0m \u001b[0;34m-\u001b[0m \u001b[0mQ\u001b[0m\u001b[0;34m[\u001b[0m\u001b[0maction\u001b[0m \u001b[0;34m+\u001b[0m \u001b[0;36m1\u001b[0m\u001b[0;34m]\u001b[0m \u001b[0;31m# add 1 to action to get index (-1, 0, 1)->(0,1,2)\u001b[0m\u001b[0;34m\u001b[0m\u001b[0m\n\u001b[1;32m     40\u001b[0m \u001b[0;34m\u001b[0m\u001b[0m\n",
      "\u001b[0;32m<ipython-input-44-50600095fcf0>\u001b[0m in \u001b[0;36mcalcQ\u001b[0;34m(state, tilings, theta)\u001b[0m\n\u001b[1;32m     16\u001b[0m         \u001b[0mQ\u001b[0m \u001b[0;34m=\u001b[0m \u001b[0mnp\u001b[0m\u001b[0;34m.\u001b[0m\u001b[0mzeros\u001b[0m\u001b[0;34m(\u001b[0m\u001b[0;36m3\u001b[0m\u001b[0;34m)\u001b[0m\u001b[0;34m\u001b[0m\u001b[0m\n\u001b[1;32m     17\u001b[0m         \u001b[0;32mfor\u001b[0m \u001b[0ma\u001b[0m \u001b[0;32min\u001b[0m \u001b[0;34m[\u001b[0m\u001b[0;34m-\u001b[0m\u001b[0;36m1\u001b[0m\u001b[0;34m,\u001b[0m \u001b[0;36m0\u001b[0m\u001b[0;34m,\u001b[0m \u001b[0;36m1\u001b[0m\u001b[0;34m]\u001b[0m\u001b[0;34m:\u001b[0m\u001b[0;34m\u001b[0m\u001b[0m\n\u001b[0;32m---> 18\u001b[0;31m             \u001b[0mF\u001b[0m \u001b[0;34m=\u001b[0m \u001b[0mtileCode\u001b[0m\u001b[0;34m(\u001b[0m\u001b[0mstate\u001b[0m\u001b[0;34m,\u001b[0m \u001b[0ma\u001b[0m \u001b[0;34m+\u001b[0m \u001b[0;36m1\u001b[0m\u001b[0;34m,\u001b[0m \u001b[0mtilings\u001b[0m\u001b[0;34m)\u001b[0m\u001b[0;34m\u001b[0m\u001b[0m\n\u001b[0m\u001b[1;32m     19\u001b[0m             \u001b[0;32mfor\u001b[0m \u001b[0mi\u001b[0m \u001b[0;32min\u001b[0m \u001b[0mF\u001b[0m\u001b[0;34m:\u001b[0m\u001b[0;34m\u001b[0m\u001b[0m\n\u001b[1;32m     20\u001b[0m                 \u001b[0mQ\u001b[0m\u001b[0;34m[\u001b[0m\u001b[0ma\u001b[0m \u001b[0;34m+\u001b[0m \u001b[0;36m1\u001b[0m\u001b[0;34m]\u001b[0m \u001b[0;34m=\u001b[0m \u001b[0mQ\u001b[0m\u001b[0;34m[\u001b[0m\u001b[0ma\u001b[0m \u001b[0;34m+\u001b[0m \u001b[0;36m1\u001b[0m\u001b[0;34m]\u001b[0m \u001b[0;34m+\u001b[0m \u001b[0mtheta\u001b[0m\u001b[0;34m[\u001b[0m\u001b[0mi\u001b[0m\u001b[0;34m[\u001b[0m\u001b[0;36m0\u001b[0m\u001b[0;34m]\u001b[0m\u001b[0;34m,\u001b[0m \u001b[0mi\u001b[0m\u001b[0;34m[\u001b[0m\u001b[0;36m1\u001b[0m\u001b[0;34m]\u001b[0m\u001b[0;34m,\u001b[0m \u001b[0mi\u001b[0m\u001b[0;34m[\u001b[0m\u001b[0;36m2\u001b[0m\u001b[0;34m]\u001b[0m\u001b[0;34m,\u001b[0m \u001b[0mi\u001b[0m\u001b[0;34m[\u001b[0m\u001b[0;36m3\u001b[0m\u001b[0;34m]\u001b[0m\u001b[0;34m]\u001b[0m\u001b[0;34m\u001b[0m\u001b[0m\n",
      "\u001b[0;32m<ipython-input-38-40deaebf4e3c>\u001b[0m in \u001b[0;36mtileCode\u001b[0;34m(state, action, tilings)\u001b[0m\n\u001b[1;32m     36\u001b[0m         \u001b[0myi\u001b[0m \u001b[0;34m=\u001b[0m \u001b[0mnp\u001b[0m\u001b[0;34m.\u001b[0m\u001b[0mdigitize\u001b[0m\u001b[0;34m(\u001b[0m\u001b[0mvelocity\u001b[0m\u001b[0;34m,\u001b[0m \u001b[0mys\u001b[0m\u001b[0;34m)\u001b[0m\u001b[0;34m\u001b[0m\u001b[0m\n\u001b[1;32m     37\u001b[0m         \u001b[0;31m#print(xi, yi)\u001b[0m\u001b[0;34m\u001b[0m\u001b[0;34m\u001b[0m\u001b[0m\n\u001b[0;32m---> 38\u001b[0;31m         \u001b[0mfeature\u001b[0m \u001b[0;34m=\u001b[0m \u001b[0mnp\u001b[0m\u001b[0;34m.\u001b[0m\u001b[0marray\u001b[0m\u001b[0;34m(\u001b[0m\u001b[0;34m[\u001b[0m\u001b[0mxi\u001b[0m\u001b[0;34m,\u001b[0m \u001b[0myi\u001b[0m\u001b[0;34m,\u001b[0m \u001b[0mtiling\u001b[0m\u001b[0;34m,\u001b[0m \u001b[0maction\u001b[0m\u001b[0;34m]\u001b[0m\u001b[0;34m)\u001b[0m\u001b[0;34m\u001b[0m\u001b[0m\n\u001b[0m\u001b[1;32m     39\u001b[0m         \u001b[0;31m#print(feature)\u001b[0m\u001b[0;34m\u001b[0m\u001b[0;34m\u001b[0m\u001b[0m\n\u001b[1;32m     40\u001b[0m         \u001b[0mtiles\u001b[0m\u001b[0;34m[\u001b[0m\u001b[0mtiling\u001b[0m\u001b[0;34m]\u001b[0m \u001b[0;34m=\u001b[0m \u001b[0mfeature\u001b[0m\u001b[0;34m\u001b[0m\u001b[0m\n",
      "\u001b[0;31mKeyboardInterrupt\u001b[0m: "
     ]
    }
   ],
   "source": [
    "n_agents = 1\n",
    "num_episodes = 100\n",
    "all_rewards = np.zeros(num_episodes)\n",
    "all_steps = np.zeros(num_episodes)\n",
    "for i in range(n_agents):\n",
    "    #sarsa_agent = SarsaAgent(alpha=0.1, gamma=1.0, epsilon=0.05, lambda_=0.9)\n",
    "    env = mountaincar.MountainCar()\n",
    "    rewards, steps = play(env, num_episodes, plot=False)\n",
    "    all_rewards += rewards\n",
    "    all_steps += steps\n",
    "\n",
    "all_rewards = all_rewards / n_agents\n",
    "all_steps = all_steps / n_agents"
   ]
  },
  {
   "cell_type": "code",
   "execution_count": null,
   "metadata": {},
   "outputs": [],
   "source": [
    "# Moving average function is not mine and was taken from the following link:\n",
    "# https://stackoverflow.com/questions/14313510/how-to-calculate-moving-average-using-numpy\n",
    "# Credit: Jaime\n",
    "def moving_average(a, n=10) :\n",
    "    ret = np.cumsum(a, dtype=float)\n",
    "    ret[n:] = ret[n:] - ret[:-n]\n",
    "    return ret[n - 1:] / n"
   ]
  },
  {
   "cell_type": "code",
   "execution_count": null,
   "metadata": {},
   "outputs": [],
   "source": [
    "play(env, sarsa_agent, num_episodes=5, plot=True)"
   ]
  },
  {
   "cell_type": "code",
   "execution_count": 35,
   "metadata": {},
   "outputs": [
    {
     "data": {
      "image/png": "[encoded data removed]",
      "text/plain": [
       "<matplotlib.figure.Figure at 0x10b3351d0>"
      ]
     },
     "metadata": {},
     "output_type": "display_data"
    }
   ],
   "source": [
    "#print(all_rewards)\n",
    "\n",
    "plt.plot(all_rewards)\n",
    "plt.show()"
   ]
  },
  {
   "cell_type": "markdown",
   "metadata": {
    "deletable": false,
    "nbgrader": {
     "checksum": "0e6876eaaf6b2a30ed8b4f16988e03ed",
     "grade": true,
     "grade_id": "cell-13765e8707846b42",
     "locked": false,
     "points": 50,
     "schema_version": 1,
     "solution": true
    }
   },
   "source": [
    "Please make sure that all of your code is above this cell. Here, please insert your static learning curve and answer the verbal questions (describe your choice of parameters and results). \n",
    "\n",
    "YOUR ANSWER HERE\n",
    "\n"
   ]
  },
  {
   "cell_type": "markdown",
   "metadata": {},
   "source": [
    "## Part 2 (50 marks)\n"
   ]
  },
  {
   "cell_type": "code",
   "execution_count": null,
   "metadata": {},
   "outputs": [],
   "source": [
    "# Please write your code in this cell. You can add additional code cells below this one, if you would like to.\n",
    "# ..."
   ]
  },
  {
   "cell_type": "markdown",
   "metadata": {
    "deletable": false,
    "nbgrader": {
     "checksum": "b3bb13522fc810fe1cd984ce0825a666",
     "grade": true,
     "grade_id": "cell-4fc1516337f6c8b8",
     "locked": false,
     "points": 50,
     "schema_version": 1,
     "solution": true
    }
   },
   "source": [
    "Please make sure that all of your code is above this cell. Please insert a static learning curve, showing the performance of your learning over time, and answer the questions provided on the coursework specification. Instead of providing your answer here, in this Jupyter notebook, you have the option to provide your answers on a separate pdf document, not exceeding two pages in length. If you do so, please write \"Answer in pdf file.\" in this cell.  \n",
    "\n",
    "YOUR ANSWER HERE\n",
    "\n"
   ]
  }
 ],
 "metadata": {
  "kernelspec": {
   "display_name": "Python 3",
   "language": "python",
   "name": "python3"
  },
  "language_info": {
   "codemirror_mode": {
    "name": "ipython",
    "version": 3
   },
   "file_extension": ".py",
   "mimetype": "text/x-python",
   "name": "python",
   "nbconvert_exporter": "python",
   "pygments_lexer": "ipython3",
   "version": "3.6.4"
  }
 },
 "nbformat": 4,
 "nbformat_minor": 2
}
